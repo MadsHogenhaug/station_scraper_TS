{
 "cells": [
  {
   "cell_type": "code",
   "execution_count": 1,
   "metadata": {},
   "outputs": [],
   "source": [
    "import requests\n",
    "from bs4 import BeautifulSoup\n",
    "\n",
    "# Get the main page content\n",
    "url = \"https://danskejernbaner.dk/vis.stations.oversigt.php\"\n",
    "main_url = \"https://danskejernbaner.dk/\"\n",
    "response = requests.get(url)\n",
    "soup = BeautifulSoup(response.text, \"html.parser\")\n",
    "\n",
    "# Find the table-responsive div element\n",
    "div_element = soup.find(\"div\", class_=\"table-responsive\")\n",
    "\n",
    "# Find all the links within the div element\n",
    "links = div_element.find_all(\"a\", href=True)\n",
    "\n",
    "# Create a dictionary to store station name and GPS coordinates\n",
    "station_data = {}\n",
    "\n",
    "# Loop through the links and scrape each subsite\n",
    "for link in links:\n",
    "    # Get the full url of the subsite\n",
    "    subsite_url = main_url + link[\"href\"]\n",
    "    # Make a request to the subsite\n",
    "    subsite_response = requests.get(subsite_url)\n",
    "    # Parse the subsite content with BeautifulSoup\n",
    "    subsite_soup = BeautifulSoup(subsite_response.text, \"html.parser\")\n",
    "    \n",
    "    # Find the station name\n",
    "    article_element = subsite_soup.find(\"article\", class_=\"text-justify-wide\")\n",
    "    if article_element:\n",
    "        station_name_element = article_element.find(\"h1\")\n",
    "        if station_name_element:\n",
    "            station_name = station_name_element.text.strip()\n",
    "            # Find the GPS koordinater from the table\n",
    "            table = subsite_soup.find(\"table\", class_=\"table-condensed\")\n",
    "            rows = table.find_all(\"tr\")\n",
    "            for row in rows:\n",
    "                columns = row.find_all(\"td\")\n",
    "                if columns[0].text.strip() == \"GPS koordinater\":\n",
    "                    gps_coordinates = columns[1].text.strip()\n",
    "                    # Add station name and GPS coordinates to the dictionary\n",
    "                    station_data[station_name] = gps_coordinates\n",
    "                    break\n",
    "            else:\n",
    "                print(\"GPS koordinater not found for\", station_name)\n",
    "        else:\n",
    "            print(\"Station name element not found for\", subsite_url)\n",
    "    else:\n",
    "        print(\"Article element not found for\", subsite_url)\n",
    "    break"
   ]
  }
 ],
 "metadata": {
  "kernelspec": {
   "display_name": "base",
   "language": "python",
   "name": "python3"
  },
  "language_info": {
   "codemirror_mode": {
    "name": "ipython",
    "version": 3
   },
   "file_extension": ".py",
   "mimetype": "text/x-python",
   "name": "python",
   "nbconvert_exporter": "python",
   "pygments_lexer": "ipython3",
   "version": "3.7.16"
  },
  "orig_nbformat": 4
 },
 "nbformat": 4,
 "nbformat_minor": 2
}
