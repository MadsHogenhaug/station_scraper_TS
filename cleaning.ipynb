{
 "cells": [
  {
   "cell_type": "code",
   "execution_count": 1,
   "metadata": {},
   "outputs": [],
   "source": [
    "import pandas as pd\n",
    "import warnings\n",
    "warnings.filterwarnings('ignore')"
   ]
  },
  {
   "cell_type": "code",
   "execution_count": 42,
   "metadata": {},
   "outputs": [],
   "source": [
    "df = pd.read_excel(\"C:/Users/Madshogenhaug/Desktop/coordinates.xlsx\")"
   ]
  },
  {
   "cell_type": "code",
   "execution_count": 43,
   "metadata": {},
   "outputs": [],
   "source": [
    "df = df[~df['NAME'].str.contains('\\d', regex=True)]\n",
    "\n",
    "phrases_to_remove = ['Trinbræt med Sidespor', \"Holdeplads med sidespor\",\"Billetsalgssted med Sidespor\"]\n",
    "words_to_remove = [\"Metrostation\",\"Trinbræt\" ,\"Letbanestation\",\"Station\",\"S-togstrinbræt\",\"Billetsalgssted\",\"Holdeplads\"]\n",
    "\n",
    "# Replace the specified words and phrases with an empty string\n",
    "for item in phrases_to_remove:\n",
    "    df['NAME'] = df['NAME'].str.replace(item, '', case=False)\n",
    "\n",
    "for word in words_to_remove:\n",
    "    df['NAME'] = df['NAME'].str.replace(r'\\b{}\\b'.format(word), '', case=False)\n",
    "\n",
    "\n",
    "\n",
    "\n",
    "df['NAME'] = df['NAME'].str.rstrip()\n",
    "\n",
    "# Reset the index of the DataFrame\n",
    "df.reset_index(drop=True, inplace=True)\n"
   ]
  },
  {
   "cell_type": "code",
   "execution_count": 45,
   "metadata": {},
   "outputs": [],
   "source": [
    "df.to_excel(\"C:/Users/Madshogenhaug/Desktop/coordinates1.xlsx\", index=False)"
   ]
  }
 ],
 "metadata": {
  "kernelspec": {
   "display_name": "base",
   "language": "python",
   "name": "python3"
  },
  "language_info": {
   "codemirror_mode": {
    "name": "ipython",
    "version": 3
   },
   "file_extension": ".py",
   "mimetype": "text/x-python",
   "name": "python",
   "nbconvert_exporter": "python",
   "pygments_lexer": "ipython3",
   "version": "3.7.16"
  },
  "orig_nbformat": 4
 },
 "nbformat": 4,
 "nbformat_minor": 2
}
